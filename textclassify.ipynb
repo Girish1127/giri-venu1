{
  "nbformat": 4,
  "nbformat_minor": 0,
  "metadata": {
    "colab": {
      "name": "textclassify.ipynb",
      "provenance": [],
      "collapsed_sections": []
    },
    "kernelspec": {
      "name": "python3",
      "display_name": "Python 3"
    }
  },
  "cells": [
    {
      "cell_type": "code",
      "metadata": {
        "id": "x_WNSUbew4Cx",
        "colab_type": "code",
        "colab": {}
      },
      "source": [
        "#import 20 news groups data\n",
        "from sklearn.datasets import fetch_20newsgroups \n"
      ],
      "execution_count": 0,
      "outputs": []
    },
    {
      "cell_type": "code",
      "metadata": {
        "id": "lymrohTNyX3q",
        "colab_type": "code",
        "colab": {
          "base_uri": "https://localhost:8080/",
          "height": 924
        },
        "outputId": "9879b67e-d8a4-4cdd-ec60-cf6d9acbdeab"
      },
      "source": [
        "twenty_train = fetch_20newsgroups(subset='train', shuffle=True)\n",
        "x = len(twenty_train.target_names) \n",
        "print(\"\\n The number of categories:\",x) \n",
        "print(\"\\n The %d Different Categories of 20Newsgroups\\n\" %x) \n",
        "i=1 \n",
        "for cat in twenty_train.target_names:     \n",
        "    print(\"Category[%d]:\" %i,cat)     \n",
        "    i=i+1 \n",
        "    \n",
        "print(\"\\n Length of training data is\",len(twenty_train.data)) \n",
        "print(\"\\n Length of file names is \",len(twenty_train.filenames)) \n",
        " \n",
        "print(\"\\n The Content/Data of First File is :\\n\") \n",
        " \n",
        "print(twenty_train.data[0])"
      ],
      "execution_count": 2,
      "outputs": [
        {
          "output_type": "stream",
          "text": [
            "\n",
            " The number of categories: 20\n",
            "\n",
            " The 20 Different Categories of 20Newsgroups\n",
            "\n",
            "Category[1]: alt.atheism\n",
            "Category[2]: comp.graphics\n",
            "Category[3]: comp.os.ms-windows.misc\n",
            "Category[4]: comp.sys.ibm.pc.hardware\n",
            "Category[5]: comp.sys.mac.hardware\n",
            "Category[6]: comp.windows.x\n",
            "Category[7]: misc.forsale\n",
            "Category[8]: rec.autos\n",
            "Category[9]: rec.motorcycles\n",
            "Category[10]: rec.sport.baseball\n",
            "Category[11]: rec.sport.hockey\n",
            "Category[12]: sci.crypt\n",
            "Category[13]: sci.electronics\n",
            "Category[14]: sci.med\n",
            "Category[15]: sci.space\n",
            "Category[16]: soc.religion.christian\n",
            "Category[17]: talk.politics.guns\n",
            "Category[18]: talk.politics.mideast\n",
            "Category[19]: talk.politics.misc\n",
            "Category[20]: talk.religion.misc\n",
            "\n",
            " Length of training data is 11314\n",
            "\n",
            " Length of file names is  11314\n",
            "\n",
            " The Content/Data of First File is :\n",
            "\n",
            "From: lerxst@wam.umd.edu (where's my thing)\n",
            "Subject: WHAT car is this!?\n",
            "Nntp-Posting-Host: rac3.wam.umd.edu\n",
            "Organization: University of Maryland, College Park\n",
            "Lines: 15\n",
            "\n",
            " I was wondering if anyone out there could enlighten me on this car I saw\n",
            "the other day. It was a 2-door sports car, looked to be from the late 60s/\n",
            "early 70s. It was called a Bricklin. The doors were really small. In addition,\n",
            "the front bumper was separate from the rest of the body. This is \n",
            "all I know. If anyone can tellme a model name, engine specs, years\n",
            "of production, where this car is made, history, or whatever info you\n",
            "have on this funky looking car, please e-mail.\n",
            "\n",
            "Thanks,\n",
            "- IL\n",
            "   ---- brought to you by your neighborhood Lerxst ----\n",
            "\n",
            "\n",
            "\n",
            "\n",
            "\n"
          ],
          "name": "stdout"
        }
      ]
    },
    {
      "cell_type": "code",
      "metadata": {
        "id": "jvsJDXO1zOGG",
        "colab_type": "code",
        "colab": {
          "base_uri": "https://localhost:8080/",
          "height": 1000
        },
        "outputId": "b6ef46d6-a61e-4cd9-933c-8abf3d0055b2"
      },
      "source": [
        "#this is an optional. just to see the contents of file, im printing first 5 files data.\n",
        "print(\"\\n The Contents/Data of First 5 Files is in Training Data :\\n\") \n",
        " \n",
        "for i in range(0,5):     \n",
        "    print(\"\\n FILE NO:%d \\n\"%(i+1))     \n",
        "    print(twenty_train.data[i])"
      ],
      "execution_count": 3,
      "outputs": [
        {
          "output_type": "stream",
          "text": [
            "\n",
            " The Contents/Data of First 5 Files is in Training Data :\n",
            "\n",
            "\n",
            " FILE NO:1 \n",
            "\n",
            "From: lerxst@wam.umd.edu (where's my thing)\n",
            "Subject: WHAT car is this!?\n",
            "Nntp-Posting-Host: rac3.wam.umd.edu\n",
            "Organization: University of Maryland, College Park\n",
            "Lines: 15\n",
            "\n",
            " I was wondering if anyone out there could enlighten me on this car I saw\n",
            "the other day. It was a 2-door sports car, looked to be from the late 60s/\n",
            "early 70s. It was called a Bricklin. The doors were really small. In addition,\n",
            "the front bumper was separate from the rest of the body. This is \n",
            "all I know. If anyone can tellme a model name, engine specs, years\n",
            "of production, where this car is made, history, or whatever info you\n",
            "have on this funky looking car, please e-mail.\n",
            "\n",
            "Thanks,\n",
            "- IL\n",
            "   ---- brought to you by your neighborhood Lerxst ----\n",
            "\n",
            "\n",
            "\n",
            "\n",
            "\n",
            "\n",
            " FILE NO:2 \n",
            "\n",
            "From: guykuo@carson.u.washington.edu (Guy Kuo)\n",
            "Subject: SI Clock Poll - Final Call\n",
            "Summary: Final call for SI clock reports\n",
            "Keywords: SI,acceleration,clock,upgrade\n",
            "Article-I.D.: shelley.1qvfo9INNc3s\n",
            "Organization: University of Washington\n",
            "Lines: 11\n",
            "NNTP-Posting-Host: carson.u.washington.edu\n",
            "\n",
            "A fair number of brave souls who upgraded their SI clock oscillator have\n",
            "shared their experiences for this poll. Please send a brief message detailing\n",
            "your experiences with the procedure. Top speed attained, CPU rated speed,\n",
            "add on cards and adapters, heat sinks, hour of usage per day, floppy disk\n",
            "functionality with 800 and 1.4 m floppies are especially requested.\n",
            "\n",
            "I will be summarizing in the next two days, so please add to the network\n",
            "knowledge base if you have done the clock upgrade and haven't answered this\n",
            "poll. Thanks.\n",
            "\n",
            "Guy Kuo <guykuo@u.washington.edu>\n",
            "\n",
            "\n",
            " FILE NO:3 \n",
            "\n",
            "From: twillis@ec.ecn.purdue.edu (Thomas E Willis)\n",
            "Subject: PB questions...\n",
            "Organization: Purdue University Engineering Computer Network\n",
            "Distribution: usa\n",
            "Lines: 36\n",
            "\n",
            "well folks, my mac plus finally gave up the ghost this weekend after\n",
            "starting life as a 512k way back in 1985.  sooo, i'm in the market for a\n",
            "new machine a bit sooner than i intended to be...\n",
            "\n",
            "i'm looking into picking up a powerbook 160 or maybe 180 and have a bunch\n",
            "of questions that (hopefully) somebody can answer:\n",
            "\n",
            "* does anybody know any dirt on when the next round of powerbook\n",
            "introductions are expected?  i'd heard the 185c was supposed to make an\n",
            "appearence \"this summer\" but haven't heard anymore on it - and since i\n",
            "don't have access to macleak, i was wondering if anybody out there had\n",
            "more info...\n",
            "\n",
            "* has anybody heard rumors about price drops to the powerbook line like the\n",
            "ones the duo's just went through recently?\n",
            "\n",
            "* what's the impression of the display on the 180?  i could probably swing\n",
            "a 180 if i got the 80Mb disk rather than the 120, but i don't really have\n",
            "a feel for how much \"better\" the display is (yea, it looks great in the\n",
            "store, but is that all \"wow\" or is it really that good?).  could i solicit\n",
            "some opinions of people who use the 160 and 180 day-to-day on if its worth\n",
            "taking the disk size and money hit to get the active display?  (i realize\n",
            "this is a real subjective question, but i've only played around with the\n",
            "machines in a computer store breifly and figured the opinions of somebody\n",
            "who actually uses the machine daily might prove helpful).\n",
            "\n",
            "* how well does hellcats perform?  ;)\n",
            "\n",
            "thanks a bunch in advance for any info - if you could email, i'll post a\n",
            "summary (news reading time is at a premium with finals just around the\n",
            "corner... :( )\n",
            "--\n",
            "Tom Willis  \\  twillis@ecn.purdue.edu    \\    Purdue Electrical Engineering\n",
            "---------------------------------------------------------------------------\n",
            "\"Convictions are more dangerous enemies of truth than lies.\"  - F. W.\n",
            "Nietzsche\n",
            "\n",
            "\n",
            " FILE NO:4 \n",
            "\n",
            "From: jgreen@amber (Joe Green)\n",
            "Subject: Re: Weitek P9000 ?\n",
            "Organization: Harris Computer Systems Division\n",
            "Lines: 14\n",
            "Distribution: world\n",
            "NNTP-Posting-Host: amber.ssd.csd.harris.com\n",
            "X-Newsreader: TIN [version 1.1 PL9]\n",
            "\n",
            "Robert J.C. Kyanko (rob@rjck.UUCP) wrote:\n",
            "> abraxis@iastate.edu writes in article <abraxis.734340159@class1.iastate.edu>:\n",
            "> > Anyone know about the Weitek P9000 graphics chip?\n",
            "> As far as the low-level stuff goes, it looks pretty nice.  It's got this\n",
            "> quadrilateral fill command that requires just the four points.\n",
            "\n",
            "Do you have Weitek's address/phone number?  I'd like to get some information\n",
            "about this chip.\n",
            "\n",
            "--\n",
            "Joe Green\t\t\t\tHarris Corporation\n",
            "jgreen@csd.harris.com\t\t\tComputer Systems Division\n",
            "\"The only thing that really scares me is a person with no sense of humor.\"\n",
            "\t\t\t\t\t\t-- Jonathan Winters\n",
            "\n",
            "\n",
            " FILE NO:5 \n",
            "\n",
            "From: jcm@head-cfa.harvard.edu (Jonathan McDowell)\n",
            "Subject: Re: Shuttle Launch Question\n",
            "Organization: Smithsonian Astrophysical Observatory, Cambridge, MA,  USA\n",
            "Distribution: sci\n",
            "Lines: 23\n",
            "\n",
            "From article <C5owCB.n3p@world.std.com>, by tombaker@world.std.com (Tom A Baker):\n",
            ">>In article <C5JLwx.4H9.1@cs.cmu.edu>, ETRAT@ttacs1.ttu.edu (Pack Rat) writes...\n",
            ">>>\"Clear caution & warning memory.  Verify no unexpected\n",
            ">>>errors. ...\".  I am wondering what an \"expected error\" might\n",
            ">>>be.  Sorry if this is a really dumb question, but\n",
            "> \n",
            "> Parity errors in memory or previously known conditions that were waivered.\n",
            ">    \"Yes that is an error, but we already knew about it\"\n",
            "> I'd be curious as to what the real meaning of the quote is.\n",
            "> \n",
            "> tom\n",
            "\n",
            "\n",
            "My understanding is that the 'expected errors' are basically\n",
            "known bugs in the warning system software - things are checked\n",
            "that don't have the right values in yet because they aren't\n",
            "set till after launch, and suchlike. Rather than fix the code\n",
            "and possibly introduce new bugs, they just tell the crew\n",
            "'ok, if you see a warning no. 213 before liftoff, ignore it'.\n",
            "\n",
            " - Jonathan\n",
            "\n",
            "\n",
            "\n"
          ],
          "name": "stdout"
        }
      ]
    },
    {
      "cell_type": "code",
      "metadata": {
        "id": "i4LtqSy10Zvu",
        "colab_type": "code",
        "colab": {
          "base_uri": "https://localhost:8080/",
          "height": 118
        },
        "outputId": "dcbcfd8a-1679-4058-a1a1-6972700105da"
      },
      "source": [
        "#Out of 20 categories, considering only four categories (you can use any categories, programmer choice)\n",
        "categories = ['alt.atheism', 'soc.religion.christian','comp.graphics', 'sci.med'] \n",
        "twenty_train = fetch_20newsgroups(subset='train',categories=categories, shuffle=True, random_state=42) \n",
        "print(\"\\n Reduced Target Names:\\n\",twenty_train.target_names) \n",
        "print(\"\\n Reduced Target Length:\\n\", len(twenty_train.data)) \n"
      ],
      "execution_count": 4,
      "outputs": [
        {
          "output_type": "stream",
          "text": [
            "\n",
            " Reduced Target Names:\n",
            " ['alt.atheism', 'comp.graphics', 'sci.med', 'soc.religion.christian']\n",
            "\n",
            " Reduced Target Length:\n",
            " 2257\n"
          ],
          "name": "stdout"
        }
      ]
    },
    {
      "cell_type": "code",
      "metadata": {
        "id": "UGoHX75B1kgj",
        "colab_type": "code",
        "colab": {
          "base_uri": "https://localhost:8080/",
          "height": 386
        },
        "outputId": "904ca501-0ef6-422a-b450-4a91f1d816df"
      },
      "source": [
        "#optional, just to see the content of first file\n",
        "print(\"\\nFirst Document : \",twenty_train.data[0])"
      ],
      "execution_count": 5,
      "outputs": [
        {
          "output_type": "stream",
          "text": [
            "\n",
            "First Document :  From: sd345@city.ac.uk (Michael Collier)\n",
            "Subject: Converting images to HP LaserJet III?\n",
            "Nntp-Posting-Host: hampton\n",
            "Organization: The City University\n",
            "Lines: 14\n",
            "\n",
            "Does anyone know of a good way (standard PC application/PD utility) to\n",
            "convert tif/img/tga files into LaserJet III format.  We would also like to\n",
            "do the same, converting to HPGL (HP plotter) files.\n",
            "\n",
            "Please email any response.\n",
            "\n",
            "Is this the correct group?\n",
            "\n",
            "Thanks in advance.  Michael.\n",
            "-- \n",
            "Michael Collier (Programmer)                 The Computer Unit,\n",
            "Email: M.P.Collier@uk.ac.city                The City University,\n",
            "Tel: 071 477-8000 x3769                      London,\n",
            "Fax: 071 477-8565                            EC1V 0HB.\n",
            "\n"
          ],
          "name": "stdout"
        }
      ]
    },
    {
      "cell_type": "code",
      "metadata": {
        "id": "VVAtN-ko1_vj",
        "colab_type": "code",
        "colab": {
          "base_uri": "https://localhost:8080/",
          "height": 101
        },
        "outputId": "d7cd12ff-f883-4c92-b104-086846880c83"
      },
      "source": [
        "#Extracting features from text files( Word Occurrences) \n",
        "\n",
        "from sklearn.feature_extraction.text import CountVectorizer \n",
        "count_vect = CountVectorizer() \n",
        "X_train_counts = count_vect.fit_transform(twenty_train.data) \n",
        "\n",
        "print(\"\\n(Target Length , Distinct Words):\",X_train_counts.shape)  \n",
        "print(\"\\n Frequency of the word algorithm:\",count_vect.vocabulary_.get('algorithm')) \n",
        "\n",
        "from sklearn.feature_extraction.text import TfidfTransformer \n",
        "tfidf_transformer = TfidfTransformer() \n",
        "X_train_tfidf = tfidf_transformer.fit_transform(X_train_counts) \n",
        "X_train_tfidf.shape"
      ],
      "execution_count": 6,
      "outputs": [
        {
          "output_type": "stream",
          "text": [
            "\n",
            "(Target Length , Distinct Words): (2257, 35788)\n",
            "\n",
            " Frequency of the word algorithm: 4690\n"
          ],
          "name": "stdout"
        },
        {
          "output_type": "execute_result",
          "data": {
            "text/plain": [
              "(2257, 35788)"
            ]
          },
          "metadata": {
            "tags": []
          },
          "execution_count": 6
        }
      ]
    },
    {
      "cell_type": "code",
      "metadata": {
        "id": "PmHQDltz3syP",
        "colab_type": "code",
        "colab": {}
      },
      "source": [
        "#Training a classifier \n",
        "from sklearn.naive_bayes import MultinomialNB \n",
        "clf = MultinomialNB().fit(X_train_tfidf, twenty_train.target)"
      ],
      "execution_count": 0,
      "outputs": []
    },
    {
      "cell_type": "code",
      "metadata": {
        "id": "d6KOmX2u3zsD",
        "colab_type": "code",
        "colab": {
          "base_uri": "https://localhost:8080/",
          "height": 50
        },
        "outputId": "a24a5846-118e-4e80-8921-54279887fa2a"
      },
      "source": [
        "#Predicting the Outcome \n",
        "\n",
        "docs_new = ['God is love', 'OpenGL on the GPU is fast'] \n",
        "X_new_counts = count_vect.transform(docs_new) \n",
        "X_new_tfidf = tfidf_transformer.transform(X_new_counts)\n",
        "predicted = clf.predict(X_new_tfidf) \n",
        " \n",
        "for doc, category in zip(docs_new, predicted):     \n",
        "    print('%r => %s' % (doc, twenty_train.target_names[category]))"
      ],
      "execution_count": 8,
      "outputs": [
        {
          "output_type": "stream",
          "text": [
            "'God is love' => soc.religion.christian\n",
            "'OpenGL on the GPU is fast' => comp.graphics\n"
          ],
          "name": "stdout"
        }
      ]
    },
    {
      "cell_type": "code",
      "metadata": {
        "id": "t3BkC_rf47Ez",
        "colab_type": "code",
        "colab": {
          "base_uri": "https://localhost:8080/",
          "height": 202
        },
        "outputId": "88afd782-5abb-4d55-c009-92ba546590dc"
      },
      "source": [
        "#Building a pipeline \n",
        "#In order to make the vectorizer => transformer => classifier easier to work with,\n",
        "# scikit-learn provides a Pipeline class that behaves like a compound classifier: \n",
        "\n",
        "from sklearn.pipeline import Pipeline \n",
        "text_clf = Pipeline([('vect', CountVectorizer()), ('tfidf', TfidfTransformer()), ('clf', MultinomialNB()),])\n",
        "\n",
        "text_clf.fit(twenty_train.data, twenty_train.target) \n",
        "\n",
        "#Evaluation of the performance on the test set \n",
        "\n",
        "import numpy as np \n",
        "twenty_test = fetch_20newsgroups(subset='test',categories=categories, shuffle =True, random_state=42) \n",
        "docs_test = twenty_test.data \n",
        "predicted = text_clf.predict(docs_test) \n",
        "np.mean(predicted == twenty_test.target) \n",
        "\n",
        "from sklearn import metrics \n",
        "print(metrics.classification_report(twenty_test.target, predicted,target_names=twenty_test.target_names)) "
      ],
      "execution_count": 9,
      "outputs": [
        {
          "output_type": "stream",
          "text": [
            "                        precision    recall  f1-score   support\n",
            "\n",
            "           alt.atheism       0.97      0.60      0.74       319\n",
            "         comp.graphics       0.96      0.89      0.92       389\n",
            "               sci.med       0.97      0.81      0.88       396\n",
            "soc.religion.christian       0.65      0.99      0.78       398\n",
            "\n",
            "              accuracy                           0.83      1502\n",
            "             macro avg       0.89      0.82      0.83      1502\n",
            "          weighted avg       0.88      0.83      0.84      1502\n",
            "\n"
          ],
          "name": "stdout"
        }
      ]
    }
  ]
}